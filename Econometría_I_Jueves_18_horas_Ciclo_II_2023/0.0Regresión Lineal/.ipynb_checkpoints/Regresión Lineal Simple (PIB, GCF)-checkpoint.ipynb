{
 "cells": [
  {
   "cell_type": "markdown",
   "id": "a5d14b91",
   "metadata": {},
   "source": [
    "<img src=\"escuela_economia_una_logo.png\" width=\"260\" height=\"60\">\n",
    "<center>\n",
    "    <b>Econometría</b><br>\n",
    "    <b>Profesor:  Alexander Amoretti</b><br>\n",
    "    <b>Desarrollo:  Diego Armando Barquero Sánchez, Estudiante de Tercer Ciclo</b>\n",
    "<br><br>   \n",
    "<div style=\"font-size:200%;color:white; background-color: #630b57;\">Regresión Lineal Simple</div>\n",
    "<div style=\"font-size:100%;color:white; background-color: #630b57;\">Empleando el PIB(Ingreso) para explicar el Consumo Final</div>\n",
    "\n",
    "<i>Creado:     2023-Jul-15 \n",
    "    <br>\n",
    "    Actualizado: 2023-Jul-16 </i>"
   ]
  },
  {
   "cell_type": "markdown",
   "id": "ec51fb64",
   "metadata": {},
   "source": [
    "## *Librerías*"
   ]
  },
  {
   "cell_type": "code",
   "execution_count": 2,
   "id": "31c343d9",
   "metadata": {},
   "outputs": [],
   "source": [
    "import numpy as np\n",
    "import pandas as pd \n",
    "import matplotlib.pyplot as plt\n",
    "import seaborn as sns\n",
    "%matplotlib inline\n",
    "from scipy.stats import kurtosis\n",
    "import scipy.stats as stats\n",
    "from sklearn.linear_model import LinearRegression\n",
    "import statsmodels.api as sm"
   ]
  },
  {
   "cell_type": "markdown",
   "id": "00c09dac",
   "metadata": {},
   "source": [
    "## *Cargamos los datos*"
   ]
  },
  {
   "cell_type": "code",
   "execution_count": 3,
   "id": "51e9680c",
   "metadata": {},
   "outputs": [],
   "source": [
    "datos = pd.read_excel(\"datos.xlsx\")"
   ]
  },
  {
   "cell_type": "markdown",
   "id": "b2c7e9e8",
   "metadata": {},
   "source": [
    "### *Visualizamos las dimensiones del DataFrame*"
   ]
  },
  {
   "cell_type": "code",
   "execution_count": 4,
   "id": "aa0c0208",
   "metadata": {},
   "outputs": [
    {
     "data": {
      "text/plain": [
       "(129, 2)"
      ]
     },
     "execution_count": 4,
     "metadata": {},
     "output_type": "execute_result"
    }
   ],
   "source": [
    "datos.shape"
   ]
  },
  {
   "cell_type": "markdown",
   "id": "89c9b302",
   "metadata": {},
   "source": [
    "### *Llamamos a las primera 5 filas del DataFrame*"
   ]
  },
  {
   "cell_type": "code",
   "execution_count": 5,
   "id": "edb22a70",
   "metadata": {},
   "outputs": [
    {
     "data": {
      "text/html": [
       "<div>\n",
       "<style scoped>\n",
       "    .dataframe tbody tr th:only-of-type {\n",
       "        vertical-align: middle;\n",
       "    }\n",
       "\n",
       "    .dataframe tbody tr th {\n",
       "        vertical-align: top;\n",
       "    }\n",
       "\n",
       "    .dataframe thead th {\n",
       "        text-align: right;\n",
       "    }\n",
       "</style>\n",
       "<table border=\"1\" class=\"dataframe\">\n",
       "  <thead>\n",
       "    <tr style=\"text-align: right;\">\n",
       "      <th></th>\n",
       "      <th>PIB</th>\n",
       "      <th>GCF</th>\n",
       "    </tr>\n",
       "  </thead>\n",
       "  <tbody>\n",
       "    <tr>\n",
       "      <th>0</th>\n",
       "      <td>211970.455971</td>\n",
       "      <td>169304.898580</td>\n",
       "    </tr>\n",
       "    <tr>\n",
       "      <th>1</th>\n",
       "      <td>208473.758009</td>\n",
       "      <td>177621.498939</td>\n",
       "    </tr>\n",
       "    <tr>\n",
       "      <th>2</th>\n",
       "      <td>217245.621496</td>\n",
       "      <td>191380.818160</td>\n",
       "    </tr>\n",
       "    <tr>\n",
       "      <th>3</th>\n",
       "      <td>243350.246525</td>\n",
       "      <td>221374.832082</td>\n",
       "    </tr>\n",
       "    <tr>\n",
       "      <th>4</th>\n",
       "      <td>272319.119390</td>\n",
       "      <td>219628.537368</td>\n",
       "    </tr>\n",
       "  </tbody>\n",
       "</table>\n",
       "</div>"
      ],
      "text/plain": [
       "             PIB            GCF\n",
       "0  211970.455971  169304.898580\n",
       "1  208473.758009  177621.498939\n",
       "2  217245.621496  191380.818160\n",
       "3  243350.246525  221374.832082\n",
       "4  272319.119390  219628.537368"
      ]
     },
     "execution_count": 5,
     "metadata": {},
     "output_type": "execute_result"
    }
   ],
   "source": [
    "datos.head()"
   ]
  },
  {
   "cell_type": "markdown",
   "id": "80f77066",
   "metadata": {},
   "source": [
    "### *Llamamos a las últimas 5 filas del DataFrame*"
   ]
  },
  {
   "cell_type": "code",
   "execution_count": 6,
   "id": "4c977c06",
   "metadata": {},
   "outputs": [
    {
     "data": {
      "text/html": [
       "<div>\n",
       "<style scoped>\n",
       "    .dataframe tbody tr th:only-of-type {\n",
       "        vertical-align: middle;\n",
       "    }\n",
       "\n",
       "    .dataframe tbody tr th {\n",
       "        vertical-align: top;\n",
       "    }\n",
       "\n",
       "    .dataframe thead th {\n",
       "        text-align: right;\n",
       "    }\n",
       "</style>\n",
       "<table border=\"1\" class=\"dataframe\">\n",
       "  <thead>\n",
       "    <tr style=\"text-align: right;\">\n",
       "      <th></th>\n",
       "      <th>PIB</th>\n",
       "      <th>GCF</th>\n",
       "    </tr>\n",
       "  </thead>\n",
       "  <tbody>\n",
       "    <tr>\n",
       "      <th>124</th>\n",
       "      <td>1.085330e+07</td>\n",
       "      <td>8.598533e+06</td>\n",
       "    </tr>\n",
       "    <tr>\n",
       "      <th>125</th>\n",
       "      <td>1.051422e+07</td>\n",
       "      <td>8.413962e+06</td>\n",
       "    </tr>\n",
       "    <tr>\n",
       "      <th>126</th>\n",
       "      <td>1.101245e+07</td>\n",
       "      <td>8.682776e+06</td>\n",
       "    </tr>\n",
       "    <tr>\n",
       "      <th>127</th>\n",
       "      <td>1.187172e+07</td>\n",
       "      <td>9.301598e+06</td>\n",
       "    </tr>\n",
       "    <tr>\n",
       "      <th>128</th>\n",
       "      <td>1.175351e+07</td>\n",
       "      <td>9.228730e+06</td>\n",
       "    </tr>\n",
       "  </tbody>\n",
       "</table>\n",
       "</div>"
      ],
      "text/plain": [
       "              PIB           GCF\n",
       "124  1.085330e+07  8.598533e+06\n",
       "125  1.051422e+07  8.413962e+06\n",
       "126  1.101245e+07  8.682776e+06\n",
       "127  1.187172e+07  9.301598e+06\n",
       "128  1.175351e+07  9.228730e+06"
      ]
     },
     "execution_count": 6,
     "metadata": {},
     "output_type": "execute_result"
    }
   ],
   "source": [
    "datos.tail()"
   ]
  },
  {
   "cell_type": "markdown",
   "id": "99a08d0b",
   "metadata": {},
   "source": [
    "### *Cambiamos el índice del DataFrame con el periodo de la recolección de datos*\n",
    "Primer trimestre de 1991 hasta el primer trimestre del 2023"
   ]
  },
  {
   "cell_type": "code",
   "execution_count": 7,
   "id": "79aea2ba",
   "metadata": {},
   "outputs": [],
   "source": [
    "index = pd.Index(sm.tsa.datetools.dates_from_range(\"1991Q1\", \"2023Q1\"))\n",
    "datos.set_index(index, inplace=True)"
   ]
  },
  {
   "cell_type": "markdown",
   "id": "e2d93577",
   "metadata": {},
   "source": [
    "Vemos los resultados de cambiar el índice llamando otra vez a las primeras filas"
   ]
  },
  {
   "cell_type": "code",
   "execution_count": 8,
   "id": "8f7279f4",
   "metadata": {},
   "outputs": [
    {
     "data": {
      "text/html": [
       "<div>\n",
       "<style scoped>\n",
       "    .dataframe tbody tr th:only-of-type {\n",
       "        vertical-align: middle;\n",
       "    }\n",
       "\n",
       "    .dataframe tbody tr th {\n",
       "        vertical-align: top;\n",
       "    }\n",
       "\n",
       "    .dataframe thead th {\n",
       "        text-align: right;\n",
       "    }\n",
       "</style>\n",
       "<table border=\"1\" class=\"dataframe\">\n",
       "  <thead>\n",
       "    <tr style=\"text-align: right;\">\n",
       "      <th></th>\n",
       "      <th>PIB</th>\n",
       "      <th>GCF</th>\n",
       "    </tr>\n",
       "  </thead>\n",
       "  <tbody>\n",
       "    <tr>\n",
       "      <th>1991-03-31</th>\n",
       "      <td>211970.455971</td>\n",
       "      <td>169304.898580</td>\n",
       "    </tr>\n",
       "    <tr>\n",
       "      <th>1991-06-30</th>\n",
       "      <td>208473.758009</td>\n",
       "      <td>177621.498939</td>\n",
       "    </tr>\n",
       "    <tr>\n",
       "      <th>1991-09-30</th>\n",
       "      <td>217245.621496</td>\n",
       "      <td>191380.818160</td>\n",
       "    </tr>\n",
       "    <tr>\n",
       "      <th>1991-12-31</th>\n",
       "      <td>243350.246525</td>\n",
       "      <td>221374.832082</td>\n",
       "    </tr>\n",
       "    <tr>\n",
       "      <th>1992-03-31</th>\n",
       "      <td>272319.119390</td>\n",
       "      <td>219628.537368</td>\n",
       "    </tr>\n",
       "  </tbody>\n",
       "</table>\n",
       "</div>"
      ],
      "text/plain": [
       "                      PIB            GCF\n",
       "1991-03-31  211970.455971  169304.898580\n",
       "1991-06-30  208473.758009  177621.498939\n",
       "1991-09-30  217245.621496  191380.818160\n",
       "1991-12-31  243350.246525  221374.832082\n",
       "1992-03-31  272319.119390  219628.537368"
      ]
     },
     "execution_count": 8,
     "metadata": {},
     "output_type": "execute_result"
    }
   ],
   "source": [
    "datos.head()"
   ]
  },
  {
   "cell_type": "markdown",
   "id": "63d99299",
   "metadata": {},
   "source": [
    "## *Análisis Estadístico* "
   ]
  },
  {
   "cell_type": "code",
   "execution_count": 9,
   "id": "7cfda3d3",
   "metadata": {},
   "outputs": [
    {
     "data": {
      "text/html": [
       "<div>\n",
       "<style scoped>\n",
       "    .dataframe tbody tr th:only-of-type {\n",
       "        vertical-align: middle;\n",
       "    }\n",
       "\n",
       "    .dataframe tbody tr th {\n",
       "        vertical-align: top;\n",
       "    }\n",
       "\n",
       "    .dataframe thead th {\n",
       "        text-align: right;\n",
       "    }\n",
       "</style>\n",
       "<table border=\"1\" class=\"dataframe\">\n",
       "  <thead>\n",
       "    <tr style=\"text-align: right;\">\n",
       "      <th></th>\n",
       "      <th>count</th>\n",
       "      <th>mean</th>\n",
       "      <th>std</th>\n",
       "      <th>min</th>\n",
       "      <th>25%</th>\n",
       "      <th>50%</th>\n",
       "      <th>75%</th>\n",
       "      <th>max</th>\n",
       "    </tr>\n",
       "  </thead>\n",
       "  <tbody>\n",
       "    <tr>\n",
       "      <th>PIB</th>\n",
       "      <td>129.0</td>\n",
       "      <td>4.198027e+06</td>\n",
       "      <td>3.517983e+06</td>\n",
       "      <td>208473.758009</td>\n",
       "      <td>981001.464753</td>\n",
       "      <td>3.318389e+06</td>\n",
       "      <td>7.380263e+06</td>\n",
       "      <td>1.187172e+07</td>\n",
       "    </tr>\n",
       "    <tr>\n",
       "      <th>GCF</th>\n",
       "      <td>129.0</td>\n",
       "      <td>3.421089e+06</td>\n",
       "      <td>2.824218e+06</td>\n",
       "      <td>169304.898580</td>\n",
       "      <td>784086.260524</td>\n",
       "      <td>2.682394e+06</td>\n",
       "      <td>6.089872e+06</td>\n",
       "      <td>9.301598e+06</td>\n",
       "    </tr>\n",
       "  </tbody>\n",
       "</table>\n",
       "</div>"
      ],
      "text/plain": [
       "     count          mean           std            min            25%  \\\n",
       "PIB  129.0  4.198027e+06  3.517983e+06  208473.758009  981001.464753   \n",
       "GCF  129.0  3.421089e+06  2.824218e+06  169304.898580  784086.260524   \n",
       "\n",
       "              50%           75%           max  \n",
       "PIB  3.318389e+06  7.380263e+06  1.187172e+07  \n",
       "GCF  2.682394e+06  6.089872e+06  9.301598e+06  "
      ]
     },
     "execution_count": 9,
     "metadata": {},
     "output_type": "execute_result"
    }
   ],
   "source": [
    "datos.describe().T"
   ]
  },
  {
   "cell_type": "markdown",
   "id": "dfbcf0a4",
   "metadata": {},
   "source": [
    "### *describe() se puede quedar corto para el análsis que deseamos hacer por ende vamos a emplear múltiples métodos para extraer valiosos estadísticos tanto de la columna PIB como de GCF*"
   ]
  },
  {
   "cell_type": "markdown",
   "id": "72e20b2a",
   "metadata": {},
   "source": [
    "#### *PIB*"
   ]
  },
  {
   "cell_type": "code",
   "execution_count": 21,
   "id": "54b80ead",
   "metadata": {},
   "outputs": [],
   "source": [
    "pib_media = datos[\"PIB\"].mean() # mean() proporciona la media\n",
    "pib_mediana = datos[\"PIB\"].median() # median() la mediana\n",
    "pib_max = datos[\"PIB\"].max()\n",
    "pib_min = datos[\"PIB\"].min()\n",
    "pib_desviación_estándar = datos[\"PIB\"].std() #std() nos brinda la desviación estándar\n",
    "pib_sesgo = datos[\"PIB\"].skew() # nos brinda el estadístico de sesgo\n",
    "pib_kurt = kurtosis(datos[\"PIB\"], fisher = False) # la función kurtosis nos facilita el estadístico de curtosis en los datos\n",
    "pib_jarque_stat = stats.jarque_bera(datos[\"PIB\"])[0] # usamos el método jarque bera a través de [0] llamamos solo a el estadístico\n",
    "pib_jarque_pval = stats.jarque_bera(datos[\"PIB\"])[1] # igual solo que con el [1] llamamos solo al pvalue\n",
    "pib_sum = datos[\"PIB\"].sum() # sum() lo que hace es sumarme toda la columna\n",
    "pib_sum_sq_dev = 0  # establecemos una variable = 0\n",
    "for i in datos[\"PIB\"]: # empleamos un for loop para que cada una de las entradas de PIB se resten con la media de la columna\n",
    "    residuo = i - datos[\"PIB\"].mean() # que esas restas se guarden en residuo\n",
    "    cuadrado = residuo**2 # que se eleve al cuadrado\n",
    "    pib_sum_sq_dev = pib_sum_sq_dev+cuadrado # sumeme todo y guardelo en la variable original"
   ]
  },
  {
   "cell_type": "code",
   "execution_count": 22,
   "id": "ddee11a9",
   "metadata": {},
   "outputs": [],
   "source": [
    "# hago una variable que contiene una lista con todas las variables anteriormente creadas\n",
    "análisis_robusto_pib = [pib_media,\n",
    "                        pib_mediana,\n",
    "                        pib_max,\n",
    "                        pib_min,\n",
    "                        pib_desviación_estándar,\n",
    "                        pib_sesgo,\n",
    "                        pib_kurt,\n",
    "                        pib_jarque_stat,\n",
    "                        pib_jarque_pval,\n",
    "                        pib_sum,\n",
    "                        pib_sum_sq_dev]\n",
    "análisis_robusto_pib = pd.DataFrame(análisis_robusto_pib) # el método pd.DataFrame me permite transformar una lista a un Dataframe\n",
    "análisis_robusto_pib = análisis_robusto_pib.T # lo que hago es transponer el dataframe, meramente para que se vea estético"
   ]
  },
  {
   "cell_type": "code",
   "execution_count": 23,
   "id": "06127421",
   "metadata": {},
   "outputs": [],
   "source": [
    "# el método columns nos permite definir el nombre de las columnas del DataFrame\n",
    "análisis_robusto_pib.columns = [\n",
    "    \"Media del PIB\",\n",
    "    \"Mediana del PIB\", \n",
    "    \"Máximo del PIB\",\n",
    "    \"Mínimo del PIB\",\n",
    "    \"Desviación Estándar del PIB\",\n",
    "    \"Sesgo de la distribución\", \n",
    "    \"Curtosis de la distribución\",\n",
    "    \"Estadístico del Jarque Bera\",\n",
    "    \"P-value del Jarque Bera\",\n",
    "    \"Suma de la columna PIB\",\n",
    "    \"Suma de las desviaciones al cuadrado\"\n",
    "]"
   ]
  },
  {
   "cell_type": "code",
   "execution_count": 24,
   "id": "8333328a",
   "metadata": {},
   "outputs": [
    {
     "name": "stdout",
     "output_type": "stream",
     "text": [
      "Análisis Robusto estadístico de la columna PIB\n"
     ]
    },
    {
     "data": {
      "text/html": [
       "<div>\n",
       "<style scoped>\n",
       "    .dataframe tbody tr th:only-of-type {\n",
       "        vertical-align: middle;\n",
       "    }\n",
       "\n",
       "    .dataframe tbody tr th {\n",
       "        vertical-align: top;\n",
       "    }\n",
       "\n",
       "    .dataframe thead th {\n",
       "        text-align: right;\n",
       "    }\n",
       "</style>\n",
       "<table border=\"1\" class=\"dataframe\">\n",
       "  <thead>\n",
       "    <tr style=\"text-align: right;\">\n",
       "      <th></th>\n",
       "      <th>Media del PIB</th>\n",
       "      <th>Mediana del PIB</th>\n",
       "      <th>Máximo del PIB</th>\n",
       "      <th>Mínimo del PIB</th>\n",
       "      <th>Desviación Estándar del PIB</th>\n",
       "      <th>Sesgo de la distribución</th>\n",
       "      <th>Curtosis de la distribución</th>\n",
       "      <th>Estadístico del Jarque Bera</th>\n",
       "      <th>P-value del Jarque Bera</th>\n",
       "      <th>Suma de la columna PIB</th>\n",
       "      <th>Suma de las desviaciones al cuadrado</th>\n",
       "    </tr>\n",
       "  </thead>\n",
       "  <tbody>\n",
       "    <tr>\n",
       "      <th>0</th>\n",
       "      <td>4.198027e+06</td>\n",
       "      <td>3.318389e+06</td>\n",
       "      <td>1.187172e+07</td>\n",
       "      <td>208473.758009</td>\n",
       "      <td>3.517983e+06</td>\n",
       "      <td>0.509919</td>\n",
       "      <td>1.860551</td>\n",
       "      <td>12.439293</td>\n",
       "      <td>0.00199</td>\n",
       "      <td>5.415455e+08</td>\n",
       "      <td>1.584154e+15</td>\n",
       "    </tr>\n",
       "  </tbody>\n",
       "</table>\n",
       "</div>"
      ],
      "text/plain": [
       "   Media del PIB  Mediana del PIB  Máximo del PIB  Mínimo del PIB  \\\n",
       "0   4.198027e+06     3.318389e+06    1.187172e+07   208473.758009   \n",
       "\n",
       "   Desviación Estándar del PIB  Sesgo de la distribución  \\\n",
       "0                 3.517983e+06                  0.509919   \n",
       "\n",
       "   Curtosis de la distribución  Estadístico del Jarque Bera  \\\n",
       "0                     1.860551                    12.439293   \n",
       "\n",
       "   P-value del Jarque Bera  Suma de la columna PIB  \\\n",
       "0                  0.00199            5.415455e+08   \n",
       "\n",
       "   Suma de las desviaciones al cuadrado  \n",
       "0                          1.584154e+15  "
      ]
     },
     "execution_count": 24,
     "metadata": {},
     "output_type": "execute_result"
    }
   ],
   "source": [
    "print(\"Análisis Robusto estadístico de la columna PIB\") # Explico que es a través de la función print\n",
    "análisis_robusto_pib # llamo al dataframe transpuesto con todo el análisis de datos "
   ]
  },
  {
   "cell_type": "markdown",
   "id": "b68095b6",
   "metadata": {},
   "source": [
    "#### *Histograma del PIB*"
   ]
  },
  {
   "cell_type": "code",
   "execution_count": 25,
   "id": "3ad27755",
   "metadata": {},
   "outputs": [
    {
     "data": {
      "image/png": "[encoded data removed]",
      "text/plain": [
       "<Figure size 1000x500 with 1 Axes>"
      ]
     },
     "metadata": {},
     "output_type": "display_data"
    }
   ],
   "source": [
    "plt.figure(figsize=(10,5)) \n",
    "plt.title('Histograma del PIB')\n",
    "plt.xlim(208473.758009,1.187172e+07) \n",
    "plt.ylim(0,50) \n",
    "plt.xlabel('PIB') \n",
    "plt.ylabel('Frecuencia') \n",
    "sns.histplot(data=datos, x='PIB', kde=True, color='teal');"
   ]
  },
  {
   "cell_type": "markdown",
   "id": "90c12a5a",
   "metadata": {},
   "source": [
    "#### *GCF*\n",
    "Realizamos exactamente lo mismo que con el PIB pero ahora con la columna GCF"
   ]
  },
  {
   "cell_type": "code",
   "execution_count": 26,
   "id": "f33ebcf7",
   "metadata": {},
   "outputs": [],
   "source": [
    "gcf_media = datos[\"GCF\"].mean()\n",
    "gcf_mediana = datos[\"GCF\"].median()\n",
    "gcf_max = datos[\"GCF\"].max()\n",
    "gcf_min = datos[\"GCF\"].min()\n",
    "gcf_desviación_estándar = datos[\"GCF\"].std()\n",
    "gcf_sesgo = datos[\"GCF\"].skew()\n",
    "gcf_kurt = kurtosis(datos[\"GCF\"], fisher = False)\n",
    "gcf_jarque_stat = stats.jarque_bera(datos[\"GCF\"])[0]\n",
    "gcf_jarque_pval = stats.jarque_bera(datos[\"GCF\"])[1]\n",
    "gcf_sum = datos[\"GCF\"].sum()\n",
    "gcf_sum_sq_dev = 0 \n",
    "for i in datos[\"GCF\"]:\n",
    "    residuo = i - datos[\"GCF\"].mean()\n",
    "    cuadrado = residuo**2\n",
    "    gcf_sum_sq_dev = gcf_sum_sq_dev+cuadrado"
   ]
  },
  {
   "cell_type": "code",
   "execution_count": 27,
   "id": "835f57b0",
   "metadata": {},
   "outputs": [],
   "source": [
    "análisis_robusto_gcf = [gcf_media,\n",
    "                        gcf_mediana,\n",
    "                        gcf_max,\n",
    "                        gcf_min,\n",
    "                        gcf_desviación_estándar,\n",
    "                        gcf_sesgo,\n",
    "                        gcf_kurt,\n",
    "                        gcf_jarque_stat,\n",
    "                        gcf_jarque_pval,\n",
    "                        gcf_sum,\n",
    "                        gcf_sum_sq_dev]\n",
    "análisis_robusto_gcf = pd.DataFrame(análisis_robusto_gcf)\n",
    "análisis_robusto_gcf = análisis_robusto_gcf.T"
   ]
  },
  {
   "cell_type": "code",
   "execution_count": 28,
   "id": "5d69557e",
   "metadata": {},
   "outputs": [],
   "source": [
    "análisis_robusto_gcf.columns = [\n",
    "    \"Media del GCF\",\n",
    "    \"Mediana del GCF\", \n",
    "    \"Máximo del GCF\",\n",
    "    \"Mínimo del GCF\",\n",
    "    \"Desviación Estándar del GCF\",\n",
    "    \"Sesgo de la distribución\", \n",
    "    \"Curtosis de la distribución\",\n",
    "    \"Estadístico del Jarque Bera\",\n",
    "    \"P-value del Jarque Bera\",\n",
    "    \"Suma de la columna GCF\",\n",
    "    \"Suma de las desviaciones al cuadrado\"\n",
    "]"
   ]
  },
  {
   "cell_type": "code",
   "execution_count": 29,
   "id": "d3def737",
   "metadata": {},
   "outputs": [
    {
     "name": "stdout",
     "output_type": "stream",
     "text": [
      "Análisis Robusto estadístico de la columna GCF\n"
     ]
    },
    {
     "data": {
      "text/html": [
       "<div>\n",
       "<style scoped>\n",
       "    .dataframe tbody tr th:only-of-type {\n",
       "        vertical-align: middle;\n",
       "    }\n",
       "\n",
       "    .dataframe tbody tr th {\n",
       "        vertical-align: top;\n",
       "    }\n",
       "\n",
       "    .dataframe thead th {\n",
       "        text-align: right;\n",
       "    }\n",
       "</style>\n",
       "<table border=\"1\" class=\"dataframe\">\n",
       "  <thead>\n",
       "    <tr style=\"text-align: right;\">\n",
       "      <th></th>\n",
       "      <th>Media del GCF</th>\n",
       "      <th>Mediana del GCF</th>\n",
       "      <th>Máximo del GCF</th>\n",
       "      <th>Mínimo del GCF</th>\n",
       "      <th>Desviación Estándar del GCF</th>\n",
       "      <th>Sesgo de la distribución</th>\n",
       "      <th>Curtosis de la distribución</th>\n",
       "      <th>Estadístico del Jarque Bera</th>\n",
       "      <th>P-value del Jarque Bera</th>\n",
       "      <th>Suma de la columna GCF</th>\n",
       "      <th>Suma de las desviaciones al cuadrado</th>\n",
       "    </tr>\n",
       "  </thead>\n",
       "  <tbody>\n",
       "    <tr>\n",
       "      <th>0</th>\n",
       "      <td>3.421089e+06</td>\n",
       "      <td>2.682394e+06</td>\n",
       "      <td>9.301598e+06</td>\n",
       "      <td>169304.89858</td>\n",
       "      <td>2.824218e+06</td>\n",
       "      <td>0.451277</td>\n",
       "      <td>1.750145</td>\n",
       "      <td>12.673412</td>\n",
       "      <td>0.00177</td>\n",
       "      <td>4.413205e+08</td>\n",
       "      <td>1.020955e+15</td>\n",
       "    </tr>\n",
       "  </tbody>\n",
       "</table>\n",
       "</div>"
      ],
      "text/plain": [
       "   Media del GCF  Mediana del GCF  Máximo del GCF  Mínimo del GCF  \\\n",
       "0   3.421089e+06     2.682394e+06    9.301598e+06    169304.89858   \n",
       "\n",
       "   Desviación Estándar del GCF  Sesgo de la distribución  \\\n",
       "0                 2.824218e+06                  0.451277   \n",
       "\n",
       "   Curtosis de la distribución  Estadístico del Jarque Bera  \\\n",
       "0                     1.750145                    12.673412   \n",
       "\n",
       "   P-value del Jarque Bera  Suma de la columna GCF  \\\n",
       "0                  0.00177            4.413205e+08   \n",
       "\n",
       "   Suma de las desviaciones al cuadrado  \n",
       "0                          1.020955e+15  "
      ]
     },
     "execution_count": 29,
     "metadata": {},
     "output_type": "execute_result"
    }
   ],
   "source": [
    "print(\"Análisis Robusto estadístico de la columna GCF\")\n",
    "análisis_robusto_gcf"
   ]
  },
  {
   "cell_type": "markdown",
   "id": "75fb72a1",
   "metadata": {},
   "source": [
    "#### *Histograma del GCF*"
   ]
  },
  {
   "cell_type": "code",
   "execution_count": 30,
   "id": "2d7e2836",
   "metadata": {},
   "outputs": [
    {
     "data": {
      "image/png": "[encoded data removed]",
      "text/plain": [
       "<Figure size 1000x500 with 1 Axes>"
      ]
     },
     "metadata": {},
     "output_type": "display_data"
    }
   ],
   "source": [
    "plt.figure(figsize=(10,5)) \n",
    "plt.title('Histograma del GCF')\n",
    "plt.xlim(169304.898580,9.301598e+06) \n",
    "plt.ylim(0,50) \n",
    "plt.xlabel('GCF') \n",
    "plt.ylabel('Frecuencia') \n",
    "sns.histplot(data=datos, x='GCF', kde=True, color='dodgerblue');"
   ]
  },
  {
   "cell_type": "markdown",
   "id": "99487054",
   "metadata": {},
   "source": [
    "### *Gráfico de puntos de la relación entre el PIB(x) y  GCF(y)*"
   ]
  },
  {
   "cell_type": "code",
   "execution_count": 31,
   "id": "14017476",
   "metadata": {},
   "outputs": [
    {
     "data": {
      "image/png": "[encoded data removed]",
      "text/plain": [
       "<Figure size 1000x500 with 1 Axes>"
      ]
     },
     "metadata": {},
     "output_type": "display_data"
    }
   ],
   "source": [
    "plt.figure(figsize=(10,5)) \n",
    "sns.scatterplot(data=datos, x = \"PIB\", y = \"GCF\", color = \"orangered\");"
   ]
  },
  {
   "cell_type": "code",
   "execution_count": 32,
   "id": "a280ed84",
   "metadata": {},
   "outputs": [
    {
     "data": {
      "image/png": "[encoded data removed]",
      "text/plain": [
       "<Figure size 600x600 with 1 Axes>"
      ]
     },
     "metadata": {},
     "output_type": "display_data"
    }
   ],
   "source": [
    "sns.lmplot(data=datos, x = \"PIB\", y = \"GCF\", height = 6); # confirmamos esa relación lineal positiva a través del lmplot"
   ]
  },
  {
   "cell_type": "markdown",
   "id": "c358ce1c",
   "metadata": {},
   "source": [
    "## *Realizamos la Regresión Lineal Simple*"
   ]
  },
  {
   "cell_type": "code",
   "execution_count": 34,
   "id": "66a3a53c",
   "metadata": {},
   "outputs": [
    {
     "name": "stdout",
     "output_type": "stream",
     "text": [
      "                            OLS Regression Results                            \n",
      "==============================================================================\n",
      "Dep. Variable:                    GCF   R-squared:                       0.999\n",
      "Model:                            OLS   Adj. R-squared:                  0.999\n",
      "Method:                 Least Squares   F-statistic:                 9.523e+04\n",
      "Date:                Sun, 16 Jul 2023   Prob (F-statistic):          1.79e-184\n",
      "Time:                        14:15:37   Log-Likelihood:                -1671.6\n",
      "No. Observations:                 129   AIC:                             3347.\n",
      "Df Residuals:                     127   BIC:                             3353.\n",
      "Df Model:                           1                                         \n",
      "Covariance Type:            nonrobust                                         \n",
      "==============================================================================\n",
      "                 coef    std err          t      P>|t|      [0.025      0.975]\n",
      "------------------------------------------------------------------------------\n",
      "const       5.318e+04   1.42e+04      3.741      0.000     2.5e+04    8.13e+04\n",
      "PIB            0.8023      0.003    308.588      0.000       0.797       0.807\n",
      "==============================================================================\n",
      "Omnibus:                        3.899   Durbin-Watson:                   0.734\n",
      "Prob(Omnibus):                  0.142   Jarque-Bera (JB):                4.174\n",
      "Skew:                          -0.167   Prob(JB):                        0.124\n",
      "Kurtosis:                       3.816   Cond. No.                     8.53e+06\n",
      "==============================================================================\n",
      "\n",
      "Notes:\n",
      "[1] Standard Errors assume that the covariance matrix of the errors is correctly specified.\n",
      "[2] The condition number is large, 8.53e+06. This might indicate that there are\n",
      "strong multicollinearity or other numerical problems.\n"
     ]
    }
   ],
   "source": [
    "# Define la variable dependiente en este caso el consumo\n",
    "y = datos['GCF']\n",
    "\n",
    "# Define la variable explicativa en este caso el ingreso o el PIB\n",
    "x = datos['PIB']\n",
    "\n",
    "# Se agrega la variable constante\n",
    "x = sm.add_constant(x)\n",
    "\n",
    "# Se realiza la regresion como tal \n",
    "model = sm.OLS(y, x).fit()\n",
    "\n",
    "# Se imprime los resultados\n",
    "print(model.summary())"
   ]
  }
 ],
 "metadata": {
  "kernelspec": {
   "display_name": "Python 3 (ipykernel)",
   "language": "python",
   "name": "python3"
  },
  "language_info": {
   "codemirror_mode": {
    "name": "ipython",
    "version": 3
   },
   "file_extension": ".py",
   "mimetype": "text/x-python",
   "name": "python",
   "nbconvert_exporter": "python",
   "pygments_lexer": "ipython3",
   "version": "3.9.16"
  }
 },
 "nbformat": 4,
 "nbformat_minor": 5
}
